{
 "cells": [
  {
   "cell_type": "code",
   "execution_count": 1,
   "metadata": {},
   "outputs": [],
   "source": [
    "%matplotlib inline\n",
    "import pandas as pd\n",
    "import matplotlib.pyplot as plt\n",
    "import numpy as np\n",
    "import datetime\n",
    "import os\n",
    "from scipy.stats import norm\n",
    "from scipy import stats\n",
    "import seaborn as sns\n",
    "sns.set_style(\"darkgrid\")\n",
    "import statsmodels.api as sm\n",
    "import statsmodels.formula.api as smf\n",
    "from sklearn import linear_model, metrics"
   ]
  },
  {
   "cell_type": "code",
   "execution_count": 2,
   "metadata": {},
   "outputs": [
    {
     "name": "stdout",
     "output_type": "stream",
     "text": [
      "Hi! Enter Fahrenheit value, and get it in Celsius!\n",
      "32\n",
      "\n",
      "Your Celsius value is 0.0 C.\n",
      "\n"
     ]
    }
   ],
   "source": [
    "def main():\n",
    "    printC(formeln(typeHere()))\n",
    "\n",
    "def typeHere():\n",
    "    global Fahrenheit\n",
    "    try:\n",
    "        Fahrenheit = int(eval(input(\"Hi! Enter Fahrenheit value, and get it in Celsius!\\n\")))\n",
    "       \n",
    "    except ValueError:\n",
    "        print (\"\\nYour insertion was not a digit!\")\n",
    "        print (\"We've put your Fahrenheit value to 50!\")\n",
    "        Fahrenheit = 50\n",
    "    return Fahrenheit\n",
    "\n",
    "def formeln(c):\n",
    "    Celsius = (Fahrenheit - 32.00) * 5.00/9.00\n",
    "    return Celsius\n",
    "\n",
    "def printC(answer):\n",
    "    answer = str(answer)\n",
    "    print (\"\\nYour Celsius value is \" + answer + \" C.\\n\")\n",
    "\n",
    "\n",
    "\n",
    "main()"
   ]
  },
  {
   "cell_type": "code",
   "execution_count": 3,
   "metadata": {},
   "outputs": [
    {
     "data": {
      "text/plain": [
       "Int64Index([0, 24, 48], dtype='int64')"
      ]
     },
     "execution_count": 3,
     "metadata": {},
     "output_type": "execute_result"
    }
   ],
   "source": [
    "(pd.to_timedelta(np.arange(3),unit='d')+pd.to_timedelta(1,unit='s')).astype('timedelta64[h]')"
   ]
  },
  {
   "cell_type": "markdown",
   "metadata": {},
   "source": [
    "### Data Structures (list, dict, tuples, sets, strings)"
   ]
  },
  {
   "cell_type": "code",
   "execution_count": 4,
   "metadata": {},
   "outputs": [],
   "source": [
    "# Lists are enclosed in brackets:\n",
    "l = [1, 2, \"a\"]\n",
    "\n",
    "# Tuples are enclosed in parentheses:\n",
    "\n",
    "t = (1, 2, \"a\")\n",
    "\n",
    "# Tuples are faster and consume less memory. See Tuples for more information.\n",
    "\n",
    "# Dictionaries are built with curly brackets:\n",
    "\n",
    "d = {\"a\":1, \"b\":2}"
   ]
  },
  {
   "cell_type": "markdown",
   "metadata": {},
   "source": [
    "### LISTS"
   ]
  },
  {
   "cell_type": "code",
   "execution_count": 5,
   "metadata": {},
   "outputs": [
    {
     "name": "stdout",
     "output_type": "stream",
     "text": [
      "2\n",
      "[1, 2, 3, 4, ['d', 'e', 'f'], 'd', 'e', 'f']\n"
     ]
    },
    {
     "data": {
      "text/plain": [
       "5"
      ]
     },
     "execution_count": 5,
     "metadata": {},
     "output_type": "execute_result"
    }
   ],
   "source": [
    "l = [1, 2, 3]\n",
    "print (l[1])\n",
    "\n",
    "l.append(4)\n",
    "l.append(['d', 'e', 'f'])\n",
    "l.extend(['d', 'e','f'])\n",
    "print(l)\n",
    "l.index('d')"
   ]
  },
  {
   "cell_type": "code",
   "execution_count": 6,
   "metadata": {},
   "outputs": [
    {
     "data": {
      "text/plain": [
       "['a', 'b', 'c', 'b', 'a']"
      ]
     },
     "execution_count": 6,
     "metadata": {},
     "output_type": "execute_result"
    }
   ],
   "source": [
    "my_list = ['a','b','c','b', 'a']\n",
    "my_list"
   ]
  },
  {
   "cell_type": "code",
   "execution_count": 7,
   "metadata": {},
   "outputs": [
    {
     "data": {
      "text/plain": [
       "['a', 'b', 'a', 'c', 'b', 'a']"
      ]
     },
     "execution_count": 7,
     "metadata": {},
     "output_type": "execute_result"
    }
   ],
   "source": [
    "my_list.insert(2, 'a')\n",
    "my_list"
   ]
  },
  {
   "cell_type": "code",
   "execution_count": 8,
   "metadata": {},
   "outputs": [],
   "source": [
    "my_list.remove('a')"
   ]
  },
  {
   "cell_type": "code",
   "execution_count": 9,
   "metadata": {},
   "outputs": [
    {
     "data": {
      "text/plain": [
       "['b', 'a', 'c', 'b', 'a']"
      ]
     },
     "execution_count": 9,
     "metadata": {},
     "output_type": "execute_result"
    }
   ],
   "source": [
    "my_list"
   ]
  },
  {
   "cell_type": "code",
   "execution_count": 10,
   "metadata": {},
   "outputs": [
    {
     "data": {
      "text/plain": [
       "2"
      ]
     },
     "execution_count": 10,
     "metadata": {},
     "output_type": "execute_result"
    }
   ],
   "source": [
    "my_list.count('b')"
   ]
  },
  {
   "cell_type": "code",
   "execution_count": 11,
   "metadata": {},
   "outputs": [
    {
     "data": {
      "text/plain": [
       "['b', 'a', 'c', 'b']"
      ]
     },
     "execution_count": 11,
     "metadata": {},
     "output_type": "execute_result"
    }
   ],
   "source": [
    "my_list.pop()\n",
    "my_list"
   ]
  },
  {
   "cell_type": "code",
   "execution_count": 12,
   "metadata": {},
   "outputs": [
    {
     "data": {
      "text/plain": [
       "['c', 'b', 'b', 'a']"
      ]
     },
     "execution_count": 12,
     "metadata": {},
     "output_type": "execute_result"
    }
   ],
   "source": [
    "my_list.sort()\n",
    "my_list.sort(reverse=True)\n",
    "my_list"
   ]
  },
  {
   "cell_type": "code",
   "execution_count": 13,
   "metadata": {},
   "outputs": [
    {
     "data": {
      "text/plain": [
       "['c', 'b', 'b', 'a', 2, 3, 4]"
      ]
     },
     "execution_count": 13,
     "metadata": {},
     "output_type": "execute_result"
    }
   ],
   "source": [
    "my_list += [2]\n",
    "my_list += [3, 4]\n",
    "my_list"
   ]
  },
  {
   "cell_type": "code",
   "execution_count": 14,
   "metadata": {},
   "outputs": [
    {
     "data": {
      "text/plain": [
       "['c', 'b', 'b', 'a', 2, 3, 4, 'c', 'b', 'b', 'a', 2, 3, 4]"
      ]
     },
     "execution_count": 14,
     "metadata": {},
     "output_type": "execute_result"
    }
   ],
   "source": [
    "my_list = my_list * 2\n",
    "my_list"
   ]
  },
  {
   "cell_type": "code",
   "execution_count": 15,
   "metadata": {},
   "outputs": [
    {
     "name": "stdout",
     "output_type": "stream",
     "text": [
      "[2, 3, 4, 5] [0, 1] [2, 3, 4]\n"
     ]
    }
   ],
   "source": [
    "# list[first index:last index:step]\n",
    "# list[:]\n",
    "a = [0, 1, 2, 3, 4, 5]\n",
    "print (a[2:], a[:2],a[2:-1])"
   ]
  },
  {
   "cell_type": "code",
   "execution_count": 16,
   "metadata": {},
   "outputs": [
    {
     "name": "stdout",
     "output_type": "stream",
     "text": [
      "[0, 2, 4, 6, 8]\n"
     ]
    },
    {
     "data": {
      "text/plain": [
       "[0, 2, 4, 6, 8]"
      ]
     },
     "execution_count": 16,
     "metadata": {},
     "output_type": "execute_result"
    }
   ],
   "source": [
    "# list comprehension\n",
    "evens = []\n",
    "for i in range(10):\n",
    "    if i % 2 == 0:\n",
    "        evens.append(i)\n",
    "print (evens)\n",
    "[i for i in range(10) if i % 2 == 0]  #it is more efficient"
   ]
  },
  {
   "cell_type": "code",
   "execution_count": 17,
   "metadata": {},
   "outputs": [
    {
     "name": "stdout",
     "output_type": "stream",
     "text": [
      "['a', 'b', 'c', 'd', 'e', 'f']\n",
      "f\n",
      "['a', 'b', 'c', 'd', 'e']\n"
     ]
    }
   ],
   "source": [
    "# lists as stacks, that is a last-in, first-out data structures\n",
    "stack = ['a','b','c','d']\n",
    "stack.append('e')\n",
    "stack.append('f')\n",
    "print (stack)\n",
    "\n",
    "print (stack.pop())\n",
    "print (stack)\n"
   ]
  },
  {
   "cell_type": "code",
   "execution_count": 18,
   "metadata": {},
   "outputs": [
    {
     "name": "stdout",
     "output_type": "stream",
     "text": [
      "['a', 'b', 'c', 'd', 'e', 'f']\n",
      "a\n",
      "['b', 'c', 'd', 'e', 'f']\n",
      "b\n",
      "['c', 'd', 'e', 'f']\n"
     ]
    }
   ],
   "source": [
    "# lists as queues, that is a first in - first out \n",
    "queue = ['a', 'b', 'c', 'd']\n",
    "queue.append('e')\n",
    "queue.append('f')\n",
    "print (queue)\n",
    "\n",
    "print (queue.pop(0))\n",
    "print (queue)\n",
    "\n",
    "print (queue.pop(0))\n",
    "print (queue)"
   ]
  },
  {
   "cell_type": "code",
   "execution_count": 19,
   "metadata": {},
   "outputs": [
    {
     "name": "stdout",
     "output_type": "stream",
     "text": [
      "[1, 2, [3, 10]] [1, 2, [3, 10]]\n"
     ]
    }
   ],
   "source": [
    "# copy lists\n",
    "a = [1, 2, [3, 4]]\n",
    "b = a[:]\n",
    "a[2][1] = 10\n",
    "print (a,b)\n"
   ]
  },
  {
   "cell_type": "code",
   "execution_count": 21,
   "metadata": {},
   "outputs": [
    {
     "data": {
      "text/plain": [
       "[-2, -1, 0, 1, 3, 4]"
      ]
     },
     "execution_count": 21,
     "metadata": {},
     "output_type": "execute_result"
    }
   ],
   "source": [
    "# Inserting items into a sorted list\n",
    "x = [4, 1,2,0,-1,-2]\n",
    "x.sort()\n",
    "import bisect\n",
    "bisect.insort(x, 3)\n",
    "x.remove(2)\n",
    "x"
   ]
  },
  {
   "cell_type": "code",
   "execution_count": 22,
   "metadata": {},
   "outputs": [
    {
     "name": "stdout",
     "output_type": "stream",
     "text": [
      "[-2, -1, 0, 1, 3, 4]\n"
     ]
    },
    {
     "data": {
      "text/plain": [
       "4"
      ]
     },
     "execution_count": 22,
     "metadata": {},
     "output_type": "execute_result"
    }
   ],
   "source": [
    "# To know where the index where the value would have been inserted, you could have use:\n",
    "x.sort()\n",
    "print (x)\n",
    "import bisect\n",
    "bisect.bisect(x, 2)"
   ]
  },
  {
   "cell_type": "markdown",
   "metadata": {},
   "source": [
    "### TUPLES"
   ]
  },
  {
   "cell_type": "code",
   "execution_count": 29,
   "metadata": {},
   "outputs": [
    {
     "name": "stdout",
     "output_type": "stream",
     "text": [
      "2\n",
      "5\n",
      "(4, 5, 6)\n"
     ]
    },
    {
     "data": {
      "text/plain": [
       "(1,)"
      ]
     },
     "execution_count": 29,
     "metadata": {},
     "output_type": "execute_result"
    }
   ],
   "source": [
    "# create a tuple\n",
    "t = (1, 2, 3)\n",
    "print (t[1])\n",
    "# create a tuple using commas\n",
    "v = 4,5,6\n",
    "print (v[1])\n",
    "print (v)\n",
    "singleton = (1, )\n",
    "singleton"
   ]
  },
  {
   "cell_type": "code",
   "execution_count": 30,
   "metadata": {},
   "outputs": [
    {
     "data": {
      "text/plain": [
       "(4, 5, 6, 4, 5, 6)"
      ]
     },
     "execution_count": 30,
     "metadata": {},
     "output_type": "execute_result"
    }
   ],
   "source": [
    "# repeat a tuples by multiplying a tuple by a number\n",
    "v = v*2\n",
    "v"
   ]
  },
  {
   "cell_type": "code",
   "execution_count": 32,
   "metadata": {},
   "outputs": [
    {
     "data": {
      "text/plain": [
       "(1, 0, 23)"
      ]
     },
     "execution_count": 32,
     "metadata": {},
     "output_type": "execute_result"
    }
   ],
   "source": [
    "# can concatenate tuples and use augmented assignement (*=, +=):\n",
    "s1 = (1,0)\n",
    "s1 += (23,)\n",
    "s1"
   ]
  },
  {
   "cell_type": "code",
   "execution_count": 35,
   "metadata": {},
   "outputs": [
    {
     "name": "stdout",
     "output_type": "stream",
     "text": [
      "2\n"
     ]
    },
    {
     "data": {
      "text/plain": [
       "3"
      ]
     },
     "execution_count": 35,
     "metadata": {},
     "output_type": "execute_result"
    }
   ],
   "source": [
    "# Tuples are optimised, there ar only to methods\n",
    "#     index, to find occurence of a value\n",
    "#     count, to count the number of occurence of a value\n",
    "\n",
    "f = (1,4,5,2,3,1,3,2)\n",
    "print (f.count(2))\n",
    "\n",
    "f.index(2)"
   ]
  },
  {
   "cell_type": "code",
   "execution_count": 1,
   "metadata": {},
   "outputs": [
    {
     "name": "stdout",
     "output_type": "stream",
     "text": [
      "2\n"
     ]
    },
    {
     "data": {
      "text/plain": [
       "{'jan': 1, 'feb': 2, 'march': 3}"
      ]
     },
     "execution_count": 1,
     "metadata": {},
     "output_type": "execute_result"
    }
   ],
   "source": [
    "# faster than lists\n",
    "# protect the data, which is immutable\n",
    "# tuples can be used as keys on dictionaries\n",
    "\n",
    "# Tuples as key/value pairs to build dictionaries\n",
    "\n",
    "d = dict([('jan', 1), ('feb', 2), ('march', 3)])\n",
    "print (d['feb'])\n",
    "d\n",
    "\n"
   ]
  },
  {
   "cell_type": "code",
   "execution_count": 56,
   "metadata": {},
   "outputs": [
    {
     "name": "stdout",
     "output_type": "stream",
     "text": [
      "a b\n",
      "0 1\n"
     ]
    }
   ],
   "source": [
    "# signing multiple values\n",
    "(x,y,z) = ('a','b','c')\n",
    "print (x,y)\n",
    "\n",
    "(d,e,f) = range(3)\n",
    "print (d,e)"
   ]
  },
  {
   "cell_type": "code",
   "execution_count": 57,
   "metadata": {},
   "outputs": [
    {
     "name": "stdout",
     "output_type": "stream",
     "text": [
      "b a\n"
     ]
    },
    {
     "data": {
      "text/plain": [
       "'b'"
      ]
     },
     "execution_count": 57,
     "metadata": {},
     "output_type": "execute_result"
    }
   ],
   "source": [
    "# use as swap function\n",
    "# reverses the contents of 2 variables x and y\n",
    "(x,y) = (y,x)\n",
    "print (x,y)\n",
    "\n",
    "x\n"
   ]
  },
  {
   "cell_type": "code",
   "execution_count": 64,
   "metadata": {},
   "outputs": [
    {
     "data": {
      "text/plain": [
       "5"
      ]
     },
     "execution_count": 64,
     "metadata": {},
     "output_type": "execute_result"
    }
   ],
   "source": [
    "# length of a tuple,\n",
    "t= (1,2,5,4,3)\n",
    "len(t)"
   ]
  },
  {
   "cell_type": "code",
   "execution_count": 65,
   "metadata": {},
   "outputs": [
    {
     "data": {
      "text/plain": [
       "(5, 4, 3)"
      ]
     },
     "execution_count": 65,
     "metadata": {},
     "output_type": "execute_result"
    }
   ],
   "source": [
    "# Slicing \n",
    "t[2:]"
   ]
  },
  {
   "cell_type": "code",
   "execution_count": 66,
   "metadata": {},
   "outputs": [
    {
     "data": {
      "text/plain": [
       "(1, 2, 5, 4, 3)"
      ]
     },
     "execution_count": 66,
     "metadata": {},
     "output_type": "execute_result"
    }
   ],
   "source": [
    "# Tuples are immutable therefore a = sign does not create a reference but a copy as expected\n",
    "\n",
    "newt = t\n",
    "#t[0] = 5\n",
    "newt"
   ]
  },
  {
   "cell_type": "code",
   "execution_count": 67,
   "metadata": {},
   "outputs": [
    {
     "data": {
      "text/plain": [
       "(1, 2, [9, 10])"
      ]
     },
     "execution_count": 67,
     "metadata": {},
     "output_type": "execute_result"
    }
   ],
   "source": [
    "# not fully immutable \n",
    "t = (1, 2, [3, 10])\n",
    "t[2][0] = 9\n",
    "t"
   ]
  },
  {
   "cell_type": "code",
   "execution_count": 69,
   "metadata": {},
   "outputs": [
    {
     "data": {
      "text/plain": [
       "'(1, 2, [9, 10])'"
      ]
     },
     "execution_count": 69,
     "metadata": {},
     "output_type": "execute_result"
    }
   ],
   "source": [
    "# Convert a tuple to a string\n",
    "str(t)"
   ]
  },
  {
   "cell_type": "code",
   "execution_count": 77,
   "metadata": {},
   "outputs": [
    {
     "data": {
      "text/plain": [
       "5"
      ]
     },
     "execution_count": 77,
     "metadata": {},
     "output_type": "execute_result"
    }
   ],
   "source": [
    "# math and comparison - comparison operators and mathematical functions\n",
    "t = (1, 2, 3)\n",
    "max(newt)"
   ]
  },
  {
   "cell_type": "markdown",
   "metadata": {},
   "source": [
    "### DICTIONARIES"
   ]
  },
  {
   "cell_type": "code",
   "execution_count": 63,
   "metadata": {},
   "outputs": [
    {
     "name": "stdout",
     "output_type": "stream",
     "text": [
      "dict_keys(['first', 'second'])\n",
      "dict_values(['string value', [1, 2]])\n"
     ]
    },
    {
     "data": {
      "text/plain": [
       "'string value'"
      ]
     },
     "execution_count": 63,
     "metadata": {},
     "output_type": "execute_result"
    }
   ],
   "source": [
    "# You can not have duplicate keys in a dictionary\n",
    "# dictionary have no concept of order among elements\n",
    "d = {'first':'string value', 'second':[1,2]}\n",
    "print (d.keys())\n",
    "print (d.values())\n",
    "# access to the value of a given key\n",
    "d['first']"
   ]
  },
  {
   "cell_type": "code",
   "execution_count": 64,
   "metadata": {},
   "outputs": [
    {
     "data": {
      "text/plain": [
       "dict_items([('first', 'string value'), ('second', [1, 2])])"
      ]
     },
     "execution_count": 64,
     "metadata": {},
     "output_type": "execute_result"
    }
   ],
   "source": [
    "# the items method that returns a list of items of the form (key, value). \n",
    "# The items are not returned in any particular order:\n",
    "d.items()"
   ]
  },
  {
   "cell_type": "code",
   "execution_count": 65,
   "metadata": {},
   "outputs": [
    {
     "data": {
      "text/plain": [
       "True"
      ]
     },
     "execution_count": 65,
     "metadata": {},
     "output_type": "execute_result"
    }
   ],
   "source": [
    "# check for the existence of a specific key\n",
    "'first' in d"
   ]
  },
  {
   "cell_type": "code",
   "execution_count": 66,
   "metadata": {},
   "outputs": [
    {
     "name": "stdout",
     "output_type": "stream",
     "text": [
      "string value\n",
      "string value\n"
     ]
    }
   ],
   "source": [
    "# In order to get the value corresponding to a specific key, use get or pop:\n",
    "print (d.get('first'))  # this method can set an optional value, if the key is not found\n",
    "print (d.get('first'))"
   ]
  },
  {
   "cell_type": "code",
   "execution_count": 56,
   "metadata": {},
   "outputs": [
    {
     "name": "stdout",
     "output_type": "stream",
     "text": [
      "string value\n",
      "{'second': [1, 2]}\n"
     ]
    }
   ],
   "source": [
    "# difference between get and pop is that pop also removes the corresponding item from the dictionary:\n",
    "print (d.pop('first'))\n",
    "print (d)\n",
    "#print (d.pop('first'))\n"
   ]
  },
  {
   "cell_type": "code",
   "execution_count": 67,
   "metadata": {},
   "outputs": [
    {
     "name": "stdout",
     "output_type": "stream",
     "text": [
      "{'first': 'string value', 'second': [1, 2]}\n"
     ]
    },
    {
     "data": {
      "text/plain": [
       "{'first': 'string value'}"
      ]
     },
     "execution_count": 67,
     "metadata": {},
     "output_type": "execute_result"
    }
   ],
   "source": [
    "print (d)\n",
    "d.popitem()\n",
    "d"
   ]
  },
  {
   "cell_type": "code",
   "execution_count": 77,
   "metadata": {},
   "outputs": [
    {
     "data": {
      "text/plain": [
       "dict_items([('first', 'string value'), ('second', [1, 2]), ('third', 'yes'), ('forth', 'no')])"
      ]
     },
     "execution_count": 77,
     "metadata": {},
     "output_type": "execute_result"
    }
   ],
   "source": [
    "g = {'first':'string value', 'second':[1,2], 'third': 'yes', 'forth': 'no'}\n",
    "g.items()"
   ]
  },
  {
   "cell_type": "code",
   "execution_count": 94,
   "metadata": {},
   "outputs": [
    {
     "name": "stdout",
     "output_type": "stream",
     "text": [
      "{'a': [1, 2]}\n",
      "{'a': [1, 2]}\n",
      "{'a': [1, 2, 3, 4]}\n",
      "[1, 2, 3, 4]\n",
      "{'a': [1, 2]}\n"
     ]
    }
   ],
   "source": [
    "# create new dictionary\n",
    "d1 = {'a': [1,2]}\n",
    "\n",
    "d3 = d1.copy()\n",
    "d2 = d1\n",
    "\n",
    "print (d1)\n",
    "print (d2)\n",
    "d2['a'] = [1,2,3,4]\n",
    "print (d1)\n",
    "print (d1['a'])\n",
    "# To create a new object, use the copy method\n",
    "print (d3)\n",
    "\n"
   ]
  },
  {
   "cell_type": "code",
   "execution_count": 95,
   "metadata": {},
   "outputs": [
    {
     "data": {
      "text/plain": [
       "{}"
      ]
     },
     "execution_count": 95,
     "metadata": {},
     "output_type": "execute_result"
    }
   ],
   "source": [
    "# clear a dictionary\n",
    "d2.clear()\n",
    "d2"
   ]
  },
  {
   "cell_type": "code",
   "execution_count": 97,
   "metadata": {},
   "outputs": [
    {
     "data": {
      "text/plain": [
       "{'third': None}"
      ]
     },
     "execution_count": 97,
     "metadata": {},
     "output_type": "execute_result"
    }
   ],
   "source": [
    "# new item with default value\n",
    "d2.setdefault('third',)\n",
    "d2['third']\n",
    "d2"
   ]
  },
  {
   "cell_type": "code",
   "execution_count": 98,
   "metadata": {},
   "outputs": [
    {
     "data": {
      "text/plain": [
       "{'first': None, 'second': None, 'third': None, 'forth': None}"
      ]
     },
     "execution_count": 98,
     "metadata": {},
     "output_type": "execute_result"
    }
   ],
   "source": [
    "# Create a dictionary given a set of keys\n",
    "d2.fromkeys(['first', 'second','third','forth'])"
   ]
  },
  {
   "cell_type": "code",
   "execution_count": 99,
   "metadata": {},
   "outputs": [
    {
     "data": {
      "text/plain": [
       "{'first': None, 'second': None}"
      ]
     },
     "execution_count": 99,
     "metadata": {},
     "output_type": "execute_result"
    }
   ],
   "source": [
    "# another syntax is to start from an empty dictionary\n",
    "{}.fromkeys(['first', 'second'])"
   ]
  },
  {
   "cell_type": "code",
   "execution_count": 103,
   "metadata": {},
   "outputs": [
    {
     "name": "stdout",
     "output_type": "stream",
     "text": [
      "{'a': 2, 'c': 3, 'b': 2}\n"
     ]
    },
    {
     "data": {
      "text/plain": [
       "{'a': 2, 'b': 2}"
      ]
     },
     "execution_count": 103,
     "metadata": {},
     "output_type": "execute_result"
    }
   ],
   "source": [
    "# Combining dictionaries\n",
    "# The items in the supplied dictionary are added to the old one, overwriting any items there with the same keys.\n",
    "d1 = {'a':1,'c':3}\n",
    "d2 = {'a':2, 'b':2}\n",
    "d1.update(d2)\n",
    "print (d1)\n",
    "\n",
    "d2"
   ]
  },
  {
   "cell_type": "markdown",
   "metadata": {},
   "source": [
    "### ITERATORS"
   ]
  },
  {
   "cell_type": "code",
   "execution_count": 109,
   "metadata": {},
   "outputs": [
    {
     "name": "stdout",
     "output_type": "stream",
     "text": [
      "['first', 'second']\n",
      "dict_keys(['first', 'second'])\n",
      "dict_items([('first', 'string value'), ('second', [1, 2])])\n"
     ]
    }
   ],
   "source": [
    "t = {'first':'string value', 'second':[1,2]}\n",
    "k=sorted(t)\n",
    "j=t.keys()\n",
    "i=t.items()\n",
    "print (k)\n",
    "print (j) \n",
    "print (i)\n",
    "# dict methods dict.keys(), dict.items() and dict.values() return “views” instead of lists. \n",
    "\n",
    "#[x for x in t.itervalues()]\n",
    "\n",
    "#[x for x in t.iterkeys()]\n",
    "\n",
    "#[x for x in t.iteritems()]\n"
   ]
  },
  {
   "cell_type": "markdown",
   "metadata": {},
   "source": [
    "### DICT COMPARISONS"
   ]
  },
  {
   "cell_type": "markdown",
   "metadata": {},
   "source": [
    "#### you can compare dictionaries! Python first compares the sorted key-value pairs. It first sorts dictionaries by key and comapre their initial items. If the items hae different values, Python figures out the comparison between them. Otherwise, the second items are compared and so on.\n"
   ]
  },
  {
   "cell_type": "markdown",
   "metadata": {},
   "source": [
    "### Classes"
   ]
  },
  {
   "cell_type": "code",
   "execution_count": 3,
   "metadata": {},
   "outputs": [
    {
     "name": "stdout",
     "output_type": "stream",
     "text": [
      "3\n",
      "False\n"
     ]
    }
   ],
   "source": [
    "class Triangle(object):\n",
    "  def __init__(self,angle1,angle2,angle3):\n",
    "    self.angle1 = angle1\n",
    "    self.angle2 = angle2\n",
    "    self.angle3 = angle3\n",
    "  number_of_sides = 3\n",
    "  def check_angles(self):\n",
    "    if self.angle1+self.angle2+self.angle3== 180:\n",
    "      return True\n",
    "    else:\n",
    "      return False\n",
    "class Equilateral(Triangle):\n",
    "  angle = 60\n",
    "  def __init__(self):\n",
    "    self.angle1 = self.angle\n",
    "    self.angle2 = self.angle\n",
    "    self.angle3 = self.angle\n",
    "my_triangle = Triangle(90,31,60)    \n",
    "\n",
    "print (my_triangle.number_of_sides)\n",
    "print (my_triangle.check_angles())"
   ]
  },
  {
   "cell_type": "code",
   "execution_count": null,
   "metadata": {},
   "outputs": [],
   "source": []
  }
 ],
 "metadata": {
  "kernelspec": {
   "display_name": "insight",
   "language": "python",
   "name": "insight"
  },
  "language_info": {
   "codemirror_mode": {
    "name": "ipython",
    "version": 3
   },
   "file_extension": ".py",
   "mimetype": "text/x-python",
   "name": "python",
   "nbconvert_exporter": "python",
   "pygments_lexer": "ipython3",
   "version": "3.7.4"
  }
 },
 "nbformat": 4,
 "nbformat_minor": 2
}
