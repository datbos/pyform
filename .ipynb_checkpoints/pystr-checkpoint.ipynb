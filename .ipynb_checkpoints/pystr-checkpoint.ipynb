{
 "cells": [
  {
   "cell_type": "code",
   "execution_count": 1,
   "metadata": {},
   "outputs": [],
   "source": [
    "%matplotlib inline\n",
    "import pandas as pd\n",
    "import matplotlib.pyplot as plt\n",
    "import numpy as np\n",
    "import datetime\n",
    "import os\n",
    "from scipy.stats import norm\n",
    "from scipy import stats\n",
    "import seaborn as sns\n",
    "sns.set_style(\"darkgrid\")\n",
    "import statsmodels.api as sm\n",
    "import statsmodels.formula.api as smf\n",
    "from sklearn import linear_model, metrics"
   ]
  },
  {
   "cell_type": "markdown",
   "metadata": {},
   "source": [
    "### String Start\n",
    "#### https://thomas-cokelaer.info/tutorials/python/strings.html\n",
    "Python strings as sequences of characters\n",
    "\n",
    "Python strings are sequences of individual characters, and share their basic methods of access with those other Python sequences – lists and tuples. The simplest way of extracting single characters from strings (and individual members from any sequence) is to unpack them into corresponding variables."
   ]
  },
  {
   "cell_type": "code",
   "execution_count": 5,
   "metadata": {},
   "outputs": [
    {
     "data": {
      "text/plain": [
       "'A'"
      ]
     },
     "execution_count": 5,
     "metadata": {},
     "output_type": "execute_result"
    }
   ],
   "source": [
    "\n",
    "text = \"\"\" a string with special character \" and ' inside \"\"\"\n",
    "text = \" a string with escaped special character \\\", \\' inside \"\n",
    "# unicode\n",
    "a = u\"\\u0041\"\n",
    "a"
   ]
  },
  {
   "cell_type": "code",
   "execution_count": 9,
   "metadata": {},
   "outputs": [
    {
     "name": "stdout",
     "output_type": "stream",
     "text": [
      "\\textbf{this is bold text in LaTeX} \n"
     ]
    }
   ],
   "source": [
    "# strings preceded by the r character to indicate that the string has to be interpreted as it is without interpreting\n",
    "# the special character \\. This is useful for docstrings that contain latex code for instance:\n",
    "print (r\"\\textbf{this is bold text in LaTeX} \")"
   ]
  },
  {
   "cell_type": "code",
   "execution_count": 11,
   "metadata": {},
   "outputs": [
    {
     "name": "stdout",
     "output_type": "stream",
     "text": [
      "a 'is  not'  b\n"
     ]
    }
   ],
   "source": [
    "print(\"%s 'is  not'  %s\" % (\"a\", \"b\"))"
   ]
  },
  {
   "cell_type": "code",
   "execution_count": 12,
   "metadata": {},
   "outputs": [
    {
     "data": {
      "text/plain": [
       "'2!=1'"
      ]
     },
     "execution_count": 12,
     "metadata": {},
     "output_type": "execute_result"
    }
   ],
   "source": [
    "# formatting a string with arguments based on a string method called format() is more and more common:\n",
    "\"{a}!={b}\".format(a=2, b=1)"
   ]
  },
  {
   "cell_type": "code",
   "execution_count": 19,
   "metadata": {},
   "outputs": [
    {
     "name": "stdout",
     "output_type": "stream",
     "text": [
      "-This is a test-This is a test-This is a test\n",
      "-This is a test-This is a test-This is a test\n"
     ]
    },
    {
     "data": {
      "text/plain": [
       "True"
      ]
     },
     "execution_count": 19,
     "metadata": {},
     "output_type": "execute_result"
    }
   ],
   "source": [
    "# mathematical operators + and * can be used to create new strings:\n",
    "t = '-This is a test'\n",
    "t2 = t+t+t\n",
    "t3 = t*3\n",
    "print (t2)\n",
    "print (t3)\n",
    "# comparison operators >, >=, ==, <=, < and != can be used to compare strings.\n",
    "t2 == t3"
   ]
  },
  {
   "cell_type": "code",
   "execution_count": 21,
   "metadata": {},
   "outputs": [
    {
     "data": {
      "text/plain": [
       "False"
      ]
     },
     "execution_count": 21,
     "metadata": {},
     "output_type": "execute_result"
    }
   ],
   "source": [
    "# string methods\n",
    "# isdigit(), isalpha(), islower(), isupper(), istitle(), isspace(), str.isalnum():\n",
    "text = \"There are spaces but not only\"\n",
    "text.isspace() # is the string made of spaces only ?"
   ]
  },
  {
   "cell_type": "code",
   "execution_count": 1,
   "metadata": {},
   "outputs": [
    {
     "data": {
      "text/plain": [
       "(3, 16)"
      ]
     },
     "execution_count": 1,
     "metadata": {},
     "output_type": "execute_result"
    }
   ],
   "source": [
    "# count the occurence of a character with count() or get the length of a string with len():\n",
    "mystr = \"This is a string\"\n",
    "mystr.count('i'),len(mystr)"
   ]
  },
  {
   "cell_type": "code",
   "execution_count": 2,
   "metadata": {},
   "outputs": [
    {
     "name": "stdout",
     "output_type": "stream",
     "text": [
      "['Cat', 'Bat', 'Sat', 'Fat', 'Or']\n"
     ]
    }
   ],
   "source": [
    "word = 'CatBatSatFatOr'\n",
    "  \n",
    "# Splitting at 3 \n",
    "print([word[i:i+3] for i in range(0, len(word), 3)]) "
   ]
  },
  {
   "cell_type": "code",
   "execution_count": 4,
   "metadata": {},
   "outputs": [
    {
     "name": "stdout",
     "output_type": "stream",
     "text": [
      "[0, 2, 4, 6, 8]\n"
     ]
    },
    {
     "data": {
      "text/plain": [
       "[0, 2, 4, 6, 8]"
      ]
     },
     "execution_count": 4,
     "metadata": {},
     "output_type": "execute_result"
    }
   ],
   "source": [
    "# list comprehension\n",
    "evens = []\n",
    "for i in range(10):\n",
    "    if i % 2 == 0:\n",
    "        evens.append(i)\n",
    "print (evens)\n",
    "[i for i in range(10) if i % 2 == 0]  "
   ]
  },
  {
   "cell_type": "code",
   "execution_count": 5,
   "metadata": {},
   "outputs": [
    {
     "data": {
      "text/plain": [
       "[4, 6]"
      ]
     },
     "execution_count": 5,
     "metadata": {},
     "output_type": "execute_result"
    }
   ],
   "source": [
    "# filtering lists\n",
    "lis = [1,2,3]\n",
    "[elem*2 for elem in lis if elem >1]"
   ]
  },
  {
   "cell_type": "code",
   "execution_count": 5,
   "metadata": {},
   "outputs": [
    {
     "name": "stdout",
     "output_type": "stream",
     "text": [
      "Q\n",
      "e\n",
      "Quij\n",
      "ijoteDon Qu\n",
      "Qi\n",
      "ojiu\n",
      "etojiu\n"
     ]
    }
   ],
   "source": [
    "s = 'Don Quijote'\n",
    "print (s[4])\n",
    "print (s[-1])\n",
    "print (s[4:8])\n",
    "print (s[6:]+s[:6])\n",
    "print (s[4:8:2])  # stride positions forward\n",
    "print (s[8:4:-1]) # negative stride\n",
    "print (s[:4:-1])"
   ]
  },
  {
   "cell_type": "code",
   "execution_count": 16,
   "metadata": {},
   "outputs": [
    {
     "data": {
      "text/plain": [
       "['Don', 'Quijote']"
      ]
     },
     "execution_count": 16,
     "metadata": {},
     "output_type": "execute_result"
    }
   ],
   "source": [
    "# string content\n",
    "# delimiters (space, '\\t', '\\n', '\\r', '\\f') \n",
    "s.split() # s has not been changed"
   ]
  },
  {
   "cell_type": "code",
   "execution_count": 18,
   "metadata": {},
   "outputs": [
    {
     "name": "stdout",
     "output_type": "stream",
     "text": [
      "Don split here Quijote\n"
     ]
    }
   ],
   "source": [
    "title,handle = s.split()\n",
    "print (title,'split here',handle)"
   ]
  },
  {
   "cell_type": "code",
   "execution_count": 1,
   "metadata": {},
   "outputs": [
    {
     "name": "stdout",
     "output_type": "stream",
     "text": [
      "16 30 10\n",
      "['16', '30:10']\n",
      "['16:30', '10']\n"
     ]
    }
   ],
   "source": [
    "time = '16:30:10'\n",
    "hrs,min,sec =time.split(':')\n",
    "print (hrs,min,sec)\n",
    "print (time.split(':',1)) #split only once\n",
    "print (time.rsplit(':',1)) #split reverse"
   ]
  },
  {
   "cell_type": "code",
   "execution_count": 2,
   "metadata": {},
   "outputs": [
    {
     "data": {
      "text/plain": [
       "('16', ':', '30:10')"
      ]
     },
     "execution_count": 2,
     "metadata": {},
     "output_type": "execute_result"
    }
   ],
   "source": [
    "# partition vs split results in a tuple\n",
    "# partition does only one splitting operation\n",
    "tim = '16:30:10'\n",
    "tim.partition(':')"
   ]
  },
  {
   "cell_type": "code",
   "execution_count": 4,
   "metadata": {},
   "outputs": [
    {
     "data": {
      "text/plain": [
       "('16:30', ':', '10')"
      ]
     },
     "execution_count": 4,
     "metadata": {},
     "output_type": "execute_result"
    }
   ],
   "source": [
    "tim = '16:30:10'\n",
    "tim.rpartition(':')"
   ]
  },
  {
   "cell_type": "code",
   "execution_count": 8,
   "metadata": {},
   "outputs": [
    {
     "name": "stdout",
     "output_type": "stream",
     "text": [
      "Don Quijote\n",
      "Don Quixote\n"
     ]
    }
   ],
   "source": [
    "# python strings are immutable\n",
    "# so create new string using replace\n",
    "s.replace('j','x')\n",
    "print (s)\n",
    "new_s =s.replace('j','x') # replace will replace every occurence\n",
    "print (new_s)"
   ]
  },
  {
   "cell_type": "code",
   "execution_count": 13,
   "metadata": {},
   "outputs": [
    {
     "name": "stdout",
     "output_type": "stream",
     "text": [
      "Dan Quijate\n"
     ]
    }
   ],
   "source": [
    "new_s =s.replace('o','a')\n",
    "print (new_s)"
   ]
  },
  {
   "cell_type": "code",
   "execution_count": 15,
   "metadata": {},
   "outputs": [
    {
     "name": "stdout",
     "output_type": "stream",
     "text": [
      "Dan Quijote\n"
     ]
    }
   ],
   "source": [
    "new_s =s.replace('o','a',1)\n",
    "print (new_s)"
   ]
  },
  {
   "cell_type": "code",
   "execution_count": 14,
   "metadata": {},
   "outputs": [
    {
     "data": {
      "text/plain": [
       "'Dan Quijate'"
      ]
     },
     "execution_count": 14,
     "metadata": {},
     "output_type": "execute_result"
    }
   ],
   "source": [
    "new_s"
   ]
  },
  {
   "cell_type": "markdown",
   "metadata": {},
   "source": [
    "### Regular expressions\n",
    "- https://www.pythoncentral.io/introduction-to-python-regular-expressions/\n",
    "- https://www.regular-expressions.info/refext.html"
   ]
  },
  {
   "cell_type": "code",
   "execution_count": 17,
   "metadata": {},
   "outputs": [
    {
     "name": "stdout",
     "output_type": "stream",
     "text": [
      "6\n"
     ]
    }
   ],
   "source": [
    "\n",
    "str = \"Hello world\"\n",
    "print (str.find('wor'))"
   ]
  },
  {
   "cell_type": "code",
   "execution_count": 21,
   "metadata": {},
   "outputs": [
    {
     "name": "stdout",
     "output_type": "stream",
     "text": [
      "<re.Match object; span=(16, 20), match='2012'>\n",
      "2012\n",
      "16 20\n"
     ]
    }
   ],
   "source": [
    "import re\n",
    "str = 'Today is 31 May 2012.'\n",
    "mo = re.search(r'\\d\\d\\d\\d', str)\n",
    "print(mo)\n",
    "print(mo.group())\n",
    "print('%s %s' % (mo.start(), mo.end()))"
   ]
  },
  {
   "cell_type": "code",
   "execution_count": 24,
   "metadata": {},
   "outputs": [
    {
     "name": "stdout",
     "output_type": "stream",
     "text": [
      "2012-MAY-31\n"
     ]
    }
   ],
   "source": [
    "str = 'Today is 2012-MAY-31'\n",
    "mo = re.search(r'\\d\\d\\d\\d-[A-Z][A-Z][A-Z]-\\d\\d', str)\n",
    "print(mo.group())"
   ]
  },
  {
   "cell_type": "code",
   "execution_count": 26,
   "metadata": {},
   "outputs": [
    {
     "name": "stdout",
     "output_type": "stream",
     "text": [
      "2012-May-31\n"
     ]
    }
   ],
   "source": [
    "str = 'Today is 2012-May-31'\n",
    "mo = re.search(r'\\d\\d\\d\\d-[A-Z][A-Z][A-Z]-\\d\\d', str, re.IGNORECASE)\n",
    "print(mo.group())"
   ]
  },
  {
   "cell_type": "code",
   "execution_count": 27,
   "metadata": {},
   "outputs": [
    {
     "name": "stdout",
     "output_type": "stream",
     "text": [
      "2012-May-31\n"
     ]
    }
   ],
   "source": [
    "mo = re.search(r'\\d\\d\\d\\d-[A-Za-z][A-Za-z][A-Za-z]-\\d\\d', str)\n",
    "print(mo.group())"
   ]
  },
  {
   "cell_type": "code",
   "execution_count": 29,
   "metadata": {},
   "outputs": [
    {
     "name": "stdout",
     "output_type": "stream",
     "text": [
      "2012-May-31\n"
     ]
    }
   ],
   "source": [
    "mo = re.search(r'\\d{4}-[A-Za-z]{3}-\\d{2}', str) # {n} repeat previous element n times\n",
    "print(mo.group())\n"
   ]
  },
  {
   "cell_type": "code",
   "execution_count": 30,
   "metadata": {},
   "outputs": [
    {
     "name": "stdout",
     "output_type": "stream",
     "text": [
      "1234\n"
     ]
    }
   ],
   "source": [
    "str = 'abc12345def'\n",
    "mo = re.search(r'\\d{2,4}', str) # {2,4} match 2 to 4 repetitions\n",
    "print(mo.group())"
   ]
  },
  {
   "cell_type": "code",
   "execution_count": 31,
   "metadata": {},
   "outputs": [
    {
     "name": "stdout",
     "output_type": "stream",
     "text": [
      "12345\n"
     ]
    }
   ],
   "source": [
    "mo = re.search(r'\\d{2,}', str) # {2,} match 2 or more repetitions\n",
    "print(mo.group())              # \\d{1,} one or more or use \\d+\n",
    "                               # \\d{0,} zero or more or use \\d*\n",
    "                               # \\d{0,1} zero or one times or use \\d?"
   ]
  },
  {
   "cell_type": "code",
   "execution_count": 32,
   "metadata": {},
   "outputs": [
    {
     "name": "stdout",
     "output_type": "stream",
     "text": [
      "c12345\n"
     ]
    }
   ],
   "source": [
    "mo = re.search(r'c\\d*', str)\n",
    "print(mo.group()) "
   ]
  },
  {
   "cell_type": "code",
   "execution_count": 33,
   "metadata": {},
   "outputs": [
    {
     "name": "stdout",
     "output_type": "stream",
     "text": [
      "c1\n",
      "b\n"
     ]
    }
   ],
   "source": [
    "str = 'abc12345def'\n",
    "mo = re.search(r'c\\d?', str)\n",
    "# Note: the \\d was matched 1 time\n",
    "print(mo.group())\n",
    "mo = re.search(r'b\\d?', str)\n",
    "# Note: the \\d was matched 0 times\n",
    "print(mo.group())"
   ]
  },
  {
   "cell_type": "code",
   "execution_count": 36,
   "metadata": {},
   "outputs": [
    {
     "name": "stdout",
     "output_type": "stream",
     "text": [
      "31-05-2012\n",
      "31\n",
      "start index 9 end index 11\n",
      "05\n",
      "2012\n"
     ]
    }
   ],
   "source": [
    "s = 'Today is 31-05-2012'\n",
    "mo = re.search(r'(\\d{2})-(\\d{2})-(\\d{4})', s)\n",
    "# Note: The entire matched string is still available\n",
    "print(mo.group())\n",
    "# The first captured group is the date\n",
    "print(mo.group(1))\n",
    "# And this is its start/end position in the string\n",
    "print('start index %s end index %s' % (mo.start(1), mo.end(1)))\n",
    "# The second captured group is the month\n",
    "print(mo.group(2))\n",
    "# The third captured group is the year\n",
    "print(mo.group(3))"
   ]
  },
  {
   "cell_type": "code",
   "execution_count": 43,
   "metadata": {},
   "outputs": [
    {
     "name": "stdout",
     "output_type": "stream",
     "text": [
      "abc123\n",
      "abc123\n"
     ]
    }
   ],
   "source": [
    "s = \"Joe's ID: abc123\"\n",
    "# A normal captured group\n",
    "mo = re.search(r'ID: (.+)', s)\n",
    "print(mo.group(1))\n",
    "\n",
    "# A named captured group\n",
    "mo = re.search(r'ID: (?P<id>.+)', s)\n",
    "print(mo.group('id'))"
   ]
  },
  {
   "cell_type": "code",
   "execution_count": 44,
   "metadata": {},
   "outputs": [
    {
     "name": "stdout",
     "output_type": "stream",
     "text": [
      "def 456\n",
      "def\n",
      "def 456 def\n"
     ]
    },
    {
     "data": {
      "text/plain": [
       "'def'"
      ]
     },
     "execution_count": 44,
     "metadata": {},
     "output_type": "execute_result"
    }
   ],
   "source": [
    "# Re-using Captured Groups with Regular Expressions\n",
    "s = 'abc 123 def 456 def 789'\n",
    "mo = re.search(r'(?P<foo>def) \\d+', s)\n",
    "print(mo.group())\n",
    "print(mo.group('foo'))\n",
    "# Capture 'def' in a group\n",
    "mo = re.search(r'(?P<foo>def) \\d+ (?P=foo)', s)\n",
    "print(mo.group())\n",
    "mo.group('foo')"
   ]
  },
  {
   "cell_type": "code",
   "execution_count": 49,
   "metadata": {},
   "outputs": [
    {
     "name": "stdout",
     "output_type": "stream",
     "text": [
      "ham\n",
      "ham\n"
     ]
    }
   ],
   "source": [
    "# a look-ahead assertion and the syntax is (?=...)\n",
    "s = 'John likes ham and eggs.'\n",
    "mo = re.search(r'ham(?= and eggs)', s)\n",
    "print(mo.group())\n",
    "\n",
    "# negative look-ahead assertions\n",
    "\n",
    "# Syntax is (?!...)\n",
    "mo = re.search( r'ham(?! and cheese)', s)\n",
    "print(mo.group())"
   ]
  },
  {
   "cell_type": "code",
   "execution_count": null,
   "metadata": {},
   "outputs": [],
   "source": []
  }
 ],
 "metadata": {
  "kernelspec": {
   "display_name": "insight",
   "language": "python",
   "name": "insight"
  },
  "language_info": {
   "codemirror_mode": {
    "name": "ipython",
    "version": 3
   },
   "file_extension": ".py",
   "mimetype": "text/x-python",
   "name": "python",
   "nbconvert_exporter": "python",
   "pygments_lexer": "ipython3",
   "version": "3.7.4"
  }
 },
 "nbformat": 4,
 "nbformat_minor": 2
}
