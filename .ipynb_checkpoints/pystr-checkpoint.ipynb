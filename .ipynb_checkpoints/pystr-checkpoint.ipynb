{
 "cells": [
  {
   "cell_type": "code",
   "execution_count": 1,
   "metadata": {},
   "outputs": [],
   "source": [
    "%matplotlib inline\n",
    "import pandas as pd\n",
    "import matplotlib.pyplot as plt\n",
    "import numpy as np\n",
    "import datetime\n",
    "import os\n",
    "from scipy.stats import norm\n",
    "from scipy import stats\n",
    "import seaborn as sns\n",
    "sns.set_style(\"darkgrid\")\n",
    "import statsmodels.api as sm\n",
    "import statsmodels.formula.api as smf\n",
    "from sklearn import linear_model, metrics"
   ]
  },
  {
   "cell_type": "code",
   "execution_count": 5,
   "metadata": {},
   "outputs": [
    {
     "data": {
      "text/plain": [
       "'A'"
      ]
     },
     "execution_count": 5,
     "metadata": {},
     "output_type": "execute_result"
    }
   ],
   "source": [
    "# String Start\n",
    "text = \"\"\" a string with special character \" and ' inside \"\"\"\n",
    "text = \" a string with escaped special character \\\", \\' inside \"\n",
    "# unicode\n",
    "a = u\"\\u0041\"\n",
    "a"
   ]
  },
  {
   "cell_type": "code",
   "execution_count": 9,
   "metadata": {},
   "outputs": [
    {
     "name": "stdout",
     "output_type": "stream",
     "text": [
      "\\textbf{this is bold text in LaTeX} \n"
     ]
    }
   ],
   "source": [
    "# strings preceded by the r character to indicate that the string has to be interpreted as it is without interpreting\n",
    "# the special character \\. This is useful for docstrings that contain latex code for instance:\n",
    "print (r\"\\textbf{this is bold text in LaTeX} \")"
   ]
  },
  {
   "cell_type": "code",
   "execution_count": 11,
   "metadata": {},
   "outputs": [
    {
     "name": "stdout",
     "output_type": "stream",
     "text": [
      "a 'is  not'  b\n"
     ]
    }
   ],
   "source": [
    "print(\"%s 'is  not'  %s\" % (\"a\", \"b\"))"
   ]
  },
  {
   "cell_type": "code",
   "execution_count": 12,
   "metadata": {},
   "outputs": [
    {
     "data": {
      "text/plain": [
       "'2!=1'"
      ]
     },
     "execution_count": 12,
     "metadata": {},
     "output_type": "execute_result"
    }
   ],
   "source": [
    "# formatting a string with arguments based on a string method called format() is more and more common:\n",
    "\"{a}!={b}\".format(a=2, b=1)"
   ]
  },
  {
   "cell_type": "code",
   "execution_count": 19,
   "metadata": {},
   "outputs": [
    {
     "name": "stdout",
     "output_type": "stream",
     "text": [
      "-This is a test-This is a test-This is a test\n",
      "-This is a test-This is a test-This is a test\n"
     ]
    },
    {
     "data": {
      "text/plain": [
       "True"
      ]
     },
     "execution_count": 19,
     "metadata": {},
     "output_type": "execute_result"
    }
   ],
   "source": [
    "# mathematical operators + and * can be used to create new strings:\n",
    "t = '-This is a test'\n",
    "t2 = t+t+t\n",
    "t3 = t*3\n",
    "print (t2)\n",
    "print (t3)\n",
    "# comparison operators >, >=, ==, <=, < and != can be used to compare strings.\n",
    "t2 == t3"
   ]
  },
  {
   "cell_type": "code",
   "execution_count": 21,
   "metadata": {},
   "outputs": [
    {
     "data": {
      "text/plain": [
       "False"
      ]
     },
     "execution_count": 21,
     "metadata": {},
     "output_type": "execute_result"
    }
   ],
   "source": [
    "# string methods\n",
    "# isdigit(), isalpha(), islower(), isupper(), istitle(), isspace(), str.isalnum():\n",
    "text = \"There are spaces but not only\"\n",
    "text.isspace() # is the string made of spaces only ?"
   ]
  },
  {
   "cell_type": "code",
   "execution_count": null,
   "metadata": {},
   "outputs": [],
   "source": []
  }
 ],
 "metadata": {
  "kernelspec": {
   "display_name": "insight",
   "language": "python",
   "name": "insight"
  },
  "language_info": {
   "codemirror_mode": {
    "name": "ipython",
    "version": 3
   },
   "file_extension": ".py",
   "mimetype": "text/x-python",
   "name": "python",
   "nbconvert_exporter": "python",
   "pygments_lexer": "ipython3",
   "version": "3.7.4"
  }
 },
 "nbformat": 4,
 "nbformat_minor": 2
}
