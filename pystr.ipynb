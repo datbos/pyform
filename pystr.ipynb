{
 "cells": [
  {
   "cell_type": "code",
   "execution_count": 1,
   "metadata": {},
   "outputs": [],
   "source": [
    "%matplotlib inline\n",
    "import pandas as pd\n",
    "import matplotlib.pyplot as plt\n",
    "import numpy as np\n",
    "import datetime\n",
    "import os\n",
    "from scipy.stats import norm\n",
    "from scipy import stats\n",
    "import seaborn as sns\n",
    "sns.set_style(\"darkgrid\")\n",
    "import statsmodels.api as sm\n",
    "import statsmodels.formula.api as smf\n",
    "from sklearn import linear_model, metrics"
   ]
  },
  {
   "cell_type": "markdown",
   "metadata": {},
   "source": [
    "### String Start\n",
    "#### https://thomas-cokelaer.info/tutorials/python/strings.html\n",
    "Python strings as sequences of characters\n",
    "\n",
    "Python strings are sequences of individual characters, and share their basic methods of access with those other Python sequences – lists and tuples. The simplest way of extracting single characters from strings (and individual members from any sequence) is to unpack them into corresponding variables."
   ]
  },
  {
   "cell_type": "code",
   "execution_count": 5,
   "metadata": {},
   "outputs": [
    {
     "data": {
      "text/plain": [
       "'A'"
      ]
     },
     "execution_count": 5,
     "metadata": {},
     "output_type": "execute_result"
    }
   ],
   "source": [
    "\n",
    "text = \"\"\" a string with special character \" and ' inside \"\"\"\n",
    "text = \" a string with escaped special character \\\", \\' inside \"\n",
    "# unicode\n",
    "a = u\"\\u0041\"\n",
    "a"
   ]
  },
  {
   "cell_type": "code",
   "execution_count": 9,
   "metadata": {},
   "outputs": [
    {
     "name": "stdout",
     "output_type": "stream",
     "text": [
      "\\textbf{this is bold text in LaTeX} \n"
     ]
    }
   ],
   "source": [
    "# strings preceded by the r character to indicate that the string has to be interpreted as it is without interpreting\n",
    "# the special character \\. This is useful for docstrings that contain latex code for instance:\n",
    "print (r\"\\textbf{this is bold text in LaTeX} \")"
   ]
  },
  {
   "cell_type": "code",
   "execution_count": 11,
   "metadata": {},
   "outputs": [
    {
     "name": "stdout",
     "output_type": "stream",
     "text": [
      "a 'is  not'  b\n"
     ]
    }
   ],
   "source": [
    "print(\"%s 'is  not'  %s\" % (\"a\", \"b\"))"
   ]
  },
  {
   "cell_type": "code",
   "execution_count": 12,
   "metadata": {},
   "outputs": [
    {
     "data": {
      "text/plain": [
       "'2!=1'"
      ]
     },
     "execution_count": 12,
     "metadata": {},
     "output_type": "execute_result"
    }
   ],
   "source": [
    "# formatting a string with arguments based on a string method called format() is more and more common:\n",
    "\"{a}!={b}\".format(a=2, b=1)"
   ]
  },
  {
   "cell_type": "code",
   "execution_count": 19,
   "metadata": {},
   "outputs": [
    {
     "name": "stdout",
     "output_type": "stream",
     "text": [
      "-This is a test-This is a test-This is a test\n",
      "-This is a test-This is a test-This is a test\n"
     ]
    },
    {
     "data": {
      "text/plain": [
       "True"
      ]
     },
     "execution_count": 19,
     "metadata": {},
     "output_type": "execute_result"
    }
   ],
   "source": [
    "# mathematical operators + and * can be used to create new strings:\n",
    "t = '-This is a test'\n",
    "t2 = t+t+t\n",
    "t3 = t*3\n",
    "print (t2)\n",
    "print (t3)\n",
    "# comparison operators >, >=, ==, <=, < and != can be used to compare strings.\n",
    "t2 == t3"
   ]
  },
  {
   "cell_type": "code",
   "execution_count": 21,
   "metadata": {},
   "outputs": [
    {
     "data": {
      "text/plain": [
       "False"
      ]
     },
     "execution_count": 21,
     "metadata": {},
     "output_type": "execute_result"
    }
   ],
   "source": [
    "# string methods\n",
    "# isdigit(), isalpha(), islower(), isupper(), istitle(), isspace(), str.isalnum():\n",
    "text = \"There are spaces but not only\"\n",
    "text.isspace() # is the string made of spaces only ?"
   ]
  },
  {
   "cell_type": "code",
   "execution_count": 1,
   "metadata": {},
   "outputs": [
    {
     "data": {
      "text/plain": [
       "(3, 16)"
      ]
     },
     "execution_count": 1,
     "metadata": {},
     "output_type": "execute_result"
    }
   ],
   "source": [
    "# count the occurence of a character with count() or get the length of a string with len():\n",
    "mystr = \"This is a string\"\n",
    "mystr.count('i'),len(mystr)"
   ]
  },
  {
   "cell_type": "code",
   "execution_count": 2,
   "metadata": {},
   "outputs": [
    {
     "name": "stdout",
     "output_type": "stream",
     "text": [
      "['Cat', 'Bat', 'Sat', 'Fat', 'Or']\n"
     ]
    }
   ],
   "source": [
    "word = 'CatBatSatFatOr'\n",
    "  \n",
    "# Splitting at 3 \n",
    "print([word[i:i+3] for i in range(0, len(word), 3)]) "
   ]
  },
  {
   "cell_type": "code",
   "execution_count": 4,
   "metadata": {},
   "outputs": [
    {
     "name": "stdout",
     "output_type": "stream",
     "text": [
      "[0, 2, 4, 6, 8]\n"
     ]
    },
    {
     "data": {
      "text/plain": [
       "[0, 2, 4, 6, 8]"
      ]
     },
     "execution_count": 4,
     "metadata": {},
     "output_type": "execute_result"
    }
   ],
   "source": [
    "# list comprehension\n",
    "evens = []\n",
    "for i in range(10):\n",
    "    if i % 2 == 0:\n",
    "        evens.append(i)\n",
    "print (evens)\n",
    "[i for i in range(10) if i % 2 == 0]  "
   ]
  },
  {
   "cell_type": "code",
   "execution_count": 5,
   "metadata": {},
   "outputs": [
    {
     "data": {
      "text/plain": [
       "[4, 6]"
      ]
     },
     "execution_count": 5,
     "metadata": {},
     "output_type": "execute_result"
    }
   ],
   "source": [
    "# filtering lists\n",
    "lis = [1,2,3]\n",
    "[elem*2 for elem in lis if elem >1]"
   ]
  },
  {
   "cell_type": "code",
   "execution_count": 15,
   "metadata": {},
   "outputs": [
    {
     "name": "stdout",
     "output_type": "stream",
     "text": [
      "Q\n",
      "e\n",
      "Quij\n",
      "ijoteDon Qu\n",
      "Qi\n",
      "ojiu\n",
      "etojiu\n"
     ]
    }
   ],
   "source": [
    "s = 'Don Quijote'\n",
    "print (s[4])\n",
    "print (s[-1])\n",
    "print (s[4:8])\n",
    "print (s[6:]+s[:6])\n",
    "print (s[4:8:2])  # stride positions forward\n",
    "print (s[8:4:-1]) # negative stride\n",
    "print (s[:4:-1])"
   ]
  },
  {
   "cell_type": "code",
   "execution_count": 16,
   "metadata": {},
   "outputs": [
    {
     "data": {
      "text/plain": [
       "['Don', 'Quijote']"
      ]
     },
     "execution_count": 16,
     "metadata": {},
     "output_type": "execute_result"
    }
   ],
   "source": [
    "# string content\n",
    "# delimiters (space, '\\t', '\\n', '\\r', '\\f') \n",
    "s.split() # s has not been changed"
   ]
  },
  {
   "cell_type": "code",
   "execution_count": 18,
   "metadata": {},
   "outputs": [
    {
     "name": "stdout",
     "output_type": "stream",
     "text": [
      "Don split here Quijote\n"
     ]
    }
   ],
   "source": [
    "title,handle = s.split()\n",
    "print (title,'split here',handle)"
   ]
  },
  {
   "cell_type": "code",
   "execution_count": 26,
   "metadata": {},
   "outputs": [
    {
     "name": "stdout",
     "output_type": "stream",
     "text": [
      "16 30 10\n",
      "['16', '30:10']\n",
      "['16:30', '10']\n"
     ]
    }
   ],
   "source": [
    "time = '16:30:10'\n",
    "hrs,min,sec =time.split(':')\n",
    "print (hrs,min,sec)\n",
    "print (time.split(':',1)) #split only once\n",
    "print (time.rsplit(':',1)) #split reverse"
   ]
  },
  {
   "cell_type": "code",
   "execution_count": null,
   "metadata": {},
   "outputs": [],
   "source": []
  }
 ],
 "metadata": {
  "kernelspec": {
   "display_name": "insight",
   "language": "python",
   "name": "insight"
  },
  "language_info": {
   "codemirror_mode": {
    "name": "ipython",
    "version": 3
   },
   "file_extension": ".py",
   "mimetype": "text/x-python",
   "name": "python",
   "nbconvert_exporter": "python",
   "pygments_lexer": "ipython3",
   "version": "3.7.4"
  }
 },
 "nbformat": 4,
 "nbformat_minor": 2
}
